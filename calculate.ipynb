{
 "cells": [
  {
   "cell_type": "code",
   "execution_count": 2,
   "metadata": {},
   "outputs": [],
   "source": [
    "from datetime import datetime\n",
    "\n",
    "def calc_age(day, month, year):\n",
    "    current_date = str(datetime.today()).split(' ')[0].split('-')\n",
    "    age_day = int(current_date[2]) - day\n",
    "    age_month = int(current_date[1]) - month\n",
    "    age_year = int(current_date[0]) - year\n",
    "    if age_day < 0:\n",
    "        age_month -= 1\n",
    "        age_day += 30\n",
    "    if age_month < 0:\n",
    "        age_year -= 1\n",
    "        age_month += 12\n",
    "    return 'You are %d years old, %d months old, and %d days old.' % (age_year, age_month, age_day)"
   ]
  },
  {
   "cell_type": "code",
   "execution_count": null,
   "metadata": {},
   "outputs": [],
   "source": []
  }
 ],
 "metadata": {
  "kernelspec": {
   "display_name": "Python 3",
   "language": "python",
   "name": "python3"
  },
  "language_info": {
   "codemirror_mode": {
    "name": "ipython",
    "version": 3
   },
   "file_extension": ".py",
   "mimetype": "text/x-python",
   "name": "python",
   "nbconvert_exporter": "python",
   "pygments_lexer": "ipython3",
   "version": "3.6.7"
  }
 },
 "nbformat": 4,
 "nbformat_minor": 4
}
