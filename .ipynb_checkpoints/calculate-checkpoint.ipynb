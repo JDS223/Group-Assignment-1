{
 "cells": [
  {
   "cell_type": "code",
   "execution_count": 2,
   "metadata": {},
   "outputs": [],
   "source": [
    "from datetime import datetime\n",
    "\n",
    "def calc_age(day, month, year):\n",
    "    current_date = str(datetime.today()).split(' ')[0].split('-')\n",
    "    current_day = int(current_date[2])\n",
    "    current_month = int(current_date[1])\n",
    "    current_year = int(current_date[0])\n",
    "    return 'You are %d years old, %d months old, and %d days old.' % (current_year-year, current_month-month, current_day-day)"
   ]
  },
  {
   "cell_type": "code",
   "execution_count": null,
   "metadata": {},
   "outputs": [],
   "source": []
  }
 ],
 "metadata": {
  "kernelspec": {
   "display_name": "Python 3",
   "language": "python",
   "name": "python3"
  },
  "language_info": {
   "codemirror_mode": {
    "name": "ipython",
    "version": 3
   },
   "file_extension": ".py",
   "mimetype": "text/x-python",
   "name": "python",
   "nbconvert_exporter": "python",
   "pygments_lexer": "ipython3",
   "version": "3.6.7"
  }
 },
 "nbformat": 4,
 "nbformat_minor": 4
}
