{
 "cells": [
  {
   "cell_type": "code",
   "execution_count": 9,
   "metadata": {},
   "outputs": [
    {
     "name": "stdin",
     "output_type": "stream",
     "text": [
      "Enter your name: Bob\n",
      "Enter your birthdate(dd/mm/yyyy): 01/01/2000\n"
     ]
    },
    {
     "name": "stdout",
     "output_type": "stream",
     "text": [
      "You are 20 years old, 1 months old, and 26 days old.\n",
      "Bob's zodiac sign is Capricorn\n"
     ]
    }
   ],
   "source": [
    "from datetime import datetime\n",
    "def main():\n",
    "    name=input(\"Enter your name:\")\n",
    "    birthday=input(\"Enter your birthdate(dd/mm/yyyy):\")\n",
    "    birthdayinfo=birthday.split(\"/\")\n",
    "    print(calc_age(int(birthdayinfo[0]),int(birthdayinfo[1]),int(birthdayinfo[2])))\n",
    "    astro(name,int(birthdayinfo[0]),int(birthdayinfo[1]),int(birthdayinfo[2]))\n",
    "\n",
    "def calc_age(day, month, year):\n",
    "    current_date = str(datetime.today()).split(' ')[0].split('-')\n",
    "    age_day = int(current_date[2]) - day\n",
    "    age_month = int(current_date[1]) - month\n",
    "    age_year = int(current_date[0]) - year\n",
    "    if age_day < 0:\n",
    "        age_month -= 1\n",
    "        age_day += 30\n",
    "    if age_month < 0:\n",
    "        age_year -= 1\n",
    "        age_month += 12\n",
    "    return 'You are %d years old, %d months old, and %d days old.' % (age_year, age_month, age_day)\n",
    "\n",
    "def astro(Name, Day, Month, Year):\n",
    "    if ((int(Month)==12 and int(Day) >= 22)or(int(Month)==1 and int(Day)<= 19)):\n",
    "        zodiac_sign = (\"Capricorn\")\n",
    "    elif ((int(Month)==1 and int(Day) >= 20)or(int(Month)==2 and int(Day)<= 17)):\n",
    "        zodiac_sign = (\"Aquarium\")\n",
    "    elif ((int(Month)==2 and int(Day) >= 18)or(int(Month)==3 and int(Day)<= 19)):\n",
    "        zodiac_sign = (\"Pices\")\n",
    "    elif ((int(Month)==3 and int(Day) >= 20)or(int(Month)==4 and int(Day)<= 19)):\n",
    "        zodiac_sign = (\"Aries\")\n",
    "    elif ((int(Month)==4 and int(Day) >= 20)or(int(Month)==5 and int(Day)<= 20)):\n",
    "        zodiac_sign = (\"Taurus\")\n",
    "    elif ((int(Month)==5 and int(Day) >= 21)or(int(Month)==6 and int(Day)<= 20)):\n",
    "        zodiac_sign = (\"Gemini\")\n",
    "    elif ((int(Month)==6 and int(Day) >= 21)or(int(Month)==7 and int(Day)<= 22)):\n",
    "        zodiac_sign = (\"Cancer\")\n",
    "    elif ((int(Month)==7 and int(Day) >= 23)or(int(Month)==8 and int(Day)<= 22)): \n",
    "        zodiac_sign = (\"Leo\")\n",
    "    elif ((int(Month)==8 and int(Day) >= 23)or(int(Month)==9 and int(Day)<= 22)): \n",
    "        zodiac_sign = (\"Virgo\")\n",
    "    elif ((int(Month)==9 and int(Day) >= 23)or(int(Month)==10 and int(Day)<= 22)):\n",
    "        zodiac_sign = (\"Libra\")\n",
    "    elif ((int(Month)==10 and int(Day) >= 23)or(int(Month)==11 and int(Day)<= 21)): \n",
    "        zodiac_sign = (\"Scorpio\")\n",
    "    elif ((int(Month)==11 and int(Day) >= 22)or(int(Month)==12 and int(Day)<= 21)):\n",
    "        zodiac_sign = (\"Sagittarius\")\n",
    "\n",
    "    print(Name + \"'s zodiac sign is \" + zodiac_sign)\n",
    "    \n",
    "main()"
   ]
  },
  {
   "cell_type": "code",
   "execution_count": null,
   "metadata": {},
   "outputs": [],
   "source": []
  }
 ],
 "metadata": {
  "kernelspec": {
   "display_name": "Python 3",
   "language": "python",
   "name": "python3"
  },
  "language_info": {
   "codemirror_mode": {
    "name": "ipython",
    "version": 3
   },
   "file_extension": ".py",
   "mimetype": "text/x-python",
   "name": "python",
   "nbconvert_exporter": "python",
   "pygments_lexer": "ipython3",
   "version": "3.6.7"
  }
 },
 "nbformat": 4,
 "nbformat_minor": 4
}
