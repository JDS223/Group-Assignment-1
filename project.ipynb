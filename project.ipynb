{
 "cells": [
  {
   "cell_type": "code",
   "execution_count": 4,
   "metadata": {},
   "outputs": [
    {
     "name": "stdin",
     "output_type": "stream",
     "text": [
      "enter your Name John\n",
      "enter your birthday(dd/mm/yyyy) 14/09/2000\n"
     ]
    },
    {
     "name": "stdout",
     "output_type": "stream",
     "text": [
      "You are 20 years old, -7 months old, and 6 days old.\n",
      "\n",
      " Virgo\n"
     ]
    }
   ],
   "source": [
    "from datetime import datetime\n",
    "def main():\n",
    "    name=input(\"enter your Name\")\n",
    "    birthday=input(\"enter your birthday(dd/mm/yyyy)\")\n",
    "    birthdayinfo=birthday.split(\"/\")\n",
    "    print(calc_age(int(birthdayinfo[0]),int(birthdayinfo[1]),int(birthdayinfo[2])))\n",
    "    astro(name,int(birthdayinfo[0]),int(birthdayinfo[1]),int(birthdayinfo[2]))\n",
    "\n",
    "def calc_age(day, month, year):\n",
    "    current_date = str(datetime.today()).split(' ')[0].split('-')\n",
    "    current_day = int(current_date[2])\n",
    "    current_month = int(current_date[1])\n",
    "    current_year = int(current_date[0])\n",
    "    return 'You are %d years old, %d months old, and %d days old.' % (current_year-year, current_month-month, current_day-day)\n",
    "\n",
    "def astro(Name, Day, Month, Year):\n",
    "    if ((int(Month)==12 and int(Day) >= 22)or(int(Month)==1 and int(Day)<= 19)):\n",
    "        zodiac_sign = (\"\\n Capricorn\")\n",
    "    elif ((int(Month)==1 and int(Day) >= 20)or(int(Month)==2 and int(Day)<= 17)):\n",
    "        zodiac_sign = (\"\\n aquarium\")\n",
    "    elif ((int(Month)==2 and int(Day) >= 18)or(int(Month)==3 and int(Day)<= 19)):\n",
    "        zodiac_sign = (\"\\n Pices\")\n",
    "    elif ((int(Month)==3 and int(Day) >= 20)or(int(Month)==4 and int(Day)<= 19)):\n",
    "        zodiac_sign = (\"\\n Aries\")\n",
    "    elif ((int(Month)==4 and int(Day) >= 20)or(int(Month)==5 and int(Day)<= 20)):\n",
    "        zodiac_sign = (\"\\n Taurus\")\n",
    "    elif ((int(Month)==5 and int(Day) >= 21)or(int(Month)==6 and int(Day)<= 20)):\n",
    "        zodiac_sign = (\"\\n Gemini\")\n",
    "    elif ((int(Month)==6 and int(Day) >= 21)or(int(Month)==7 and int(Day)<= 22)):\n",
    "        zodiac_sign = (\"\\n Cancer\")\n",
    "    elif ((int(Month)==7 and int(Day) >= 23)or(int(Month)==8 and int(Day)<= 22)): \n",
    "        zodiac_sign = (\"\\n Leo\")\n",
    "    elif ((int(Month)==8 and int(Day) >= 23)or(int(Month)==9 and int(Day)<= 22)): \n",
    "        zodiac_sign = (\"\\n Virgo\")\n",
    "    elif ((int(Month)==9 and int(Day) >= 23)or(int(Month)==10 and int(Day)<= 22)):\n",
    "        zodiac_sign = (\"\\n Libra\")\n",
    "    elif ((int(Month)==10 and int(Day) >= 23)or(int(Month)==11 and int(Day)<= 21)): \n",
    "        zodiac_sign = (\"\\n Scorpio\")\n",
    "    elif ((int(Month)==11 and int(Day) >= 22)or(int(Month)==12 and int(Day)<= 21)):\n",
    "        zodiac_sign = (\"\\n Sagittarius\")\n",
    "\n",
    "    print(zodiac_sign)\n",
    "    \n",
    "    \n",
    "    \n",
    "main()"
   ]
  },
  {
   "cell_type": "code",
   "execution_count": null,
   "metadata": {},
   "outputs": [],
   "source": []
  }
 ],
 "metadata": {
  "kernelspec": {
   "display_name": "Python 3",
   "language": "python",
   "name": "python3"
  },
  "language_info": {
   "codemirror_mode": {
    "name": "ipython",
    "version": 3
   },
   "file_extension": ".py",
   "mimetype": "text/x-python",
   "name": "python",
   "nbconvert_exporter": "python",
   "pygments_lexer": "ipython3",
   "version": "3.6.7"
  }
 },
 "nbformat": 4,
 "nbformat_minor": 4
}
