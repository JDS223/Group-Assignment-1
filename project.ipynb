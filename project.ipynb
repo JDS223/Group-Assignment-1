{
 "cells": [
  {
   "cell_type": "code",
   "execution_count": 1,
   "metadata": {},
   "outputs": [
    {
     "name": "stdin",
     "output_type": "stream",
     "text": [
      "enter your Name john\n",
      "enter your birthday(dd/mm/yyyy) 09/14/2000\n"
     ]
    },
    {
     "name": "stdout",
     "output_type": "stream",
     "text": [
      "['09', '14', '2000']\n"
     ]
    }
   ],
   "source": [
    "def main():\n",
    "    name=input(\"enter your Name\")\n",
    "    birthday=input(\"enter your birthday(dd/mm/yyyy)\")\n",
    "    birthdayinfo=birthday.split(\"/\")\n",
    "    print(birthdayinfo)\n",
    "main()\n"
   ]
  },
  {
   "cell_type": "code",
   "execution_count": null,
   "metadata": {},
   "outputs": [],
   "source": []
  }
 ],
 "metadata": {
  "kernelspec": {
   "display_name": "Python 3",
   "language": "python",
   "name": "python3"
  },
  "language_info": {
   "codemirror_mode": {
    "name": "ipython",
    "version": 3
   },
   "file_extension": ".py",
   "mimetype": "text/x-python",
   "name": "python",
   "nbconvert_exporter": "python",
   "pygments_lexer": "ipython3",
   "version": "3.6.7"
  }
 },
 "nbformat": 4,
 "nbformat_minor": 4
}
